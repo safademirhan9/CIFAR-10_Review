{
 "cells": [
  {
   "cell_type": "markdown",
   "metadata": {},
   "source": [
    "## IMPORTING LIBRARIES AND LOADING DATA"
   ]
  },
  {
   "cell_type": "code",
   "execution_count": 1,
   "metadata": {
    "collapsed": true
   },
   "outputs": [],
   "source": [
    "import os\n",
    "import time\n",
    "import numpy as np\n",
    "\n",
    "import matplotlib.pyplot as plt\n",
    "import matplotlib as mpl\n",
    "%matplotlib inline"
   ]
  },
  {
   "cell_type": "code",
   "execution_count": 2,
   "metadata": {},
   "outputs": [
    {
     "name": "stderr",
     "output_type": "stream",
     "text": [
      "Using TensorFlow backend.\n"
     ]
    },
    {
     "name": "stdout",
     "output_type": "stream",
     "text": [
      "Train image shape:    (49000, 32, 32, 3)\n",
      "Train label shape:    (49000,)\n",
      "Validate image shape: (1000, 32, 32, 3)\n",
      "Validate label shape: (1000,)\n",
      "Test image shape:     (10000, 32, 32, 3)\n",
      "Test label shape:     (10000,)\n"
     ]
    },
    {
     "data": {
      "image/png": "[encoded data removed]",
      "text/plain": [
       "<matplotlib.figure.Figure at 0x216c6bd6d68>"
      ]
     },
     "metadata": {},
     "output_type": "display_data"
    }
   ],
   "source": [
    "# Load the CIFAR10 dataset\n",
    "from keras.datasets import cifar10\n",
    "baseDir = os.path.dirname(os.path.abspath('__file__')) + '/'\n",
    "classesName = ['plane', 'car', 'bird', 'cat', 'deer', 'dog', 'frog', 'horse', 'ship', 'truck']\n",
    "(xTrain, yTrain), (xTest, yTest) = cifar10.load_data()\n",
    "xVal = xTrain[49000:, :].astype(np.float)\n",
    "yVal = np.squeeze(yTrain[49000:, :])\n",
    "xTrain = xTrain[:49000, :].astype(np.float)\n",
    "yTrain = np.squeeze(yTrain[:49000, :])\n",
    "yTest = np.squeeze(yTest)\n",
    "xTest = xTest.astype(np.float)\n",
    "\n",
    "# Show dimension for each variable\n",
    "print ('Train image shape:    {0}'.format(xTrain.shape))\n",
    "print ('Train label shape:    {0}'.format(yTrain.shape))\n",
    "print ('Validate image shape: {0}'.format(xVal.shape))\n",
    "print ('Validate label shape: {0}'.format(yVal.shape))\n",
    "print ('Test image shape:     {0}'.format(xTest.shape))\n",
    "print ('Test label shape:     {0}'.format(yTest.shape))\n",
    "\n",
    "# Show some CIFAR10 images\n",
    "plt.subplot(221)\n",
    "plt.imshow(xTrain[0])\n",
    "plt.axis('off')\n",
    "plt.title(classesName[yTrain[0]])\n",
    "plt.subplot(222)\n",
    "plt.imshow(xTrain[1])\n",
    "plt.axis('off')\n",
    "plt.title(classesName[yTrain[1]])\n",
    "plt.subplot(223)\n",
    "plt.imshow(xVal[0])\n",
    "plt.axis('off')\n",
    "plt.title(classesName[yVal[1]])\n",
    "plt.subplot(224)\n",
    "plt.imshow(xTest[0])\n",
    "plt.axis('off')\n",
    "plt.title(classesName[yTest[0]])\n",
    "plt.savefig(baseDir+'svm0.png')\n",
    "# plt.clf()\n",
    "plt.show()\n",
    "# print(xTrain[0])"
   ]
  },
  {
   "cell_type": "markdown",
   "metadata": {},
   "source": [
    "## Reshaping Data into a Vector and Normalizing it (-1 to 1)"
   ]
  },
  {
   "cell_type": "code",
   "execution_count": 3,
   "metadata": {},
   "outputs": [
    {
     "name": "stdout",
     "output_type": "stream",
     "text": [
      "(49000, 32, 32, 3)\n",
      "(49000,)\n",
      "(49000, 3072)\n",
      "[  59.   62.   63. ...,  123.   92.   72.]\n",
      "(49000, 3072)\n",
      "[-0.5372549  -0.51372549 -0.50588235 ..., -0.03529412 -0.27843137\n",
      " -0.43529412]\n"
     ]
    }
   ],
   "source": [
    "print(xTrain.shape)\n",
    "print(yTrain.shape)\n",
    "xTrain = np.reshape(xTrain, (xTrain.shape[0], -1)) # The -1 means that the corresponding dimension is calculated from the other given dimensions.\n",
    "xVal = np.reshape(xVal, (xVal.shape[0], -1))\n",
    "xTest = np.reshape(xTest, (xTest.shape[0], -1))\n",
    "print(xTrain.shape) \n",
    "print(xTrain[0])\n",
    "\n",
    "#Normalize \n",
    "xTrain=((xTrain/255)*2)-1 \n",
    "print(xTrain.shape)\n",
    "print(xTrain[0])\n"
   ]
  },
  {
   "cell_type": "code",
   "execution_count": 4,
   "metadata": {},
   "outputs": [
    {
     "name": "stdout",
     "output_type": "stream",
     "text": [
      "[6 9 9 ..., 6 6 4]\n",
      "(3000, 3072)\n",
      "(3000,)\n"
     ]
    }
   ],
   "source": [
    "#Choosing a smaller dataset\n",
    "xTrain=xTrain[:3000,:]\n",
    "yTrain=yTrain[:3000]\n",
    "print(yTrain)\n",
    "print(xTrain.shape)\n",
    "print(yTrain.shape)"
   ]
  },
  {
   "cell_type": "markdown",
   "metadata": {},
   "source": [
    "## SVM Linear Kernel"
   ]
  },
  {
   "cell_type": "code",
   "execution_count": 8,
   "metadata": {
    "collapsed": true
   },
   "outputs": [],
   "source": [
    "from sklearn import svm\n",
    "\n",
    "def svm_linear(c):\n",
    "    svc = svm.SVC(probability = False, kernel = 'linear', C = c)\n",
    "    \n",
    "    svc.fit(xTrain, yTrain) \n",
    "    \n",
    "    # Find the prediction and accuracy on the training set.\n",
    "    Yhat_svc_linear_train = svc.predict(xTrain)\n",
    "    acc_train = np.mean(Yhat_svc_linear_train == yTrain)\n",
    "    acc_train_svm_linear.append(acc_train)\n",
    "    print('Train Accuracy = {0:f}'.format(acc_train))\n",
    "    \n",
    "    # Find the prediction and accuracy on the test set.\n",
    "    Yhat_svc_linear_test = svc.predict(xVal)\n",
    "    acc_test = np.mean(Yhat_svc_linear_test == yVal)\n",
    "    acc_test_svm_linear.append(acc_test)\n",
    "    print('Test Accuracy = {0:f}'.format(acc_test)) \n",
    "    \n",
    "    "
   ]
  },
  {
   "cell_type": "code",
   "execution_count": 13,
   "metadata": {},
   "outputs": [
    {
     "name": "stdout",
     "output_type": "stream",
     "text": [
      "Train Accuracy = 0.354667\n",
      "Test Accuracy = 0.098000\n",
      "Train Accuracy = 0.484667\n",
      "Test Accuracy = 0.188000\n",
      "Train Accuracy = 0.709333\n",
      "Test Accuracy = 0.253000\n",
      "Train Accuracy = 0.989667\n",
      "Test Accuracy = 0.286000\n",
      "Train Accuracy = 1.000000\n",
      "Test Accuracy = 0.279000\n",
      "Train Accuracy = 1.000000\n",
      "Test Accuracy = 0.279000\n",
      "Train Accuracy = 1.000000\n",
      "Test Accuracy = 0.279000\n"
     ]
    },
    {
     "data": {
      "image/png": "[encoded data removed]",
      "text/plain": [
       "<matplotlib.figure.Figure at 0x247fdfa2b00>"
      ]
     },
     "metadata": {},
     "output_type": "display_data"
    }
   ],
   "source": [
    "c_svm_linear = [0.0001,0.001,0.01,0.1,1,10,100]\n",
    "acc_train_svm_linear = []\n",
    "acc_test_svm_linear = []\n",
    "\n",
    "for c in c_svm_linear:\n",
    "    svm_linear(c)\n",
    "\n",
    "plt.plot(c_svm_linear, acc_train_svm_linear,'.-',color='red')\n",
    "plt.plot(c_svm_linear, acc_test_svm_linear,'.-',color='orange')\n",
    "plt.xlabel('c')\n",
    "plt.ylabel('Accuracy')\n",
    "plt.title(\"Plot of accuracy vs c for training and test data\")\n",
    "plt.grid()"
   ]
  },
  {
   "cell_type": "markdown",
   "metadata": {},
   "source": [
    "## SVM Polynomial Kernel"
   ]
  },
  {
   "cell_type": "code",
   "execution_count": 9,
   "metadata": {
    "collapsed": true
   },
   "outputs": [],
   "source": [
    "acc_train_svm_poly = []\n",
    "acc_test_svm_poly = []\n",
    "\n",
    "def svm_polynomial(c):\n",
    "\n",
    "    svc_polynomial = svm.SVC(probability = False, kernel = 'poly', C = c)\n",
    "    \n",
    "    \n",
    "    svc_polynomial.fit(xTrain, yTrain) \n",
    "    \n",
    "    # Find the prediction and accuracy on the training set.\n",
    "    Yhat_svc_polynomial_train = svc_polynomial.predict(xTrain)\n",
    "    acc_train = np.mean(Yhat_svc_polynomial_train == yTrain)\n",
    "    acc_train_svm_poly.append(acc_train)\n",
    "    print('Accuracy = {0:f}'.format(acc_train))\n",
    "    \n",
    "    # Find the prediction and accuracy on the test set.\n",
    "    Yhat_svc_polynomial_test = svc_polynomial.predict(xVal)\n",
    "    acc_test = np.mean(Yhat_svc_polynomial_test == yVal)\n",
    "    acc_test_svm_poly.append(acc_test)\n",
    "    print('Accuracy = {0:f}'.format(acc_test))"
   ]
  },
  {
   "cell_type": "code",
   "execution_count": 19,
   "metadata": {},
   "outputs": [
    {
     "name": "stdout",
     "output_type": "stream",
     "text": [
      "Accuracy = 0.107333\n",
      "Accuracy = 0.087000\n",
      "Accuracy = 0.107333\n",
      "Accuracy = 0.087000\n",
      "Accuracy = 0.107333\n",
      "Accuracy = 0.087000\n",
      "Accuracy = 0.107333\n",
      "Accuracy = 0.087000\n",
      "Accuracy = 0.139333\n",
      "Accuracy = 0.087000\n",
      "Accuracy = 0.335667\n",
      "Accuracy = 0.151000\n",
      "Accuracy = 0.804000\n",
      "Accuracy = 0.267000\n"
     ]
    },
    {
     "data": {
      "image/png": "[encoded data removed]",
      "text/plain": [
       "<matplotlib.figure.Figure at 0x247855eff28>"
      ]
     },
     "metadata": {},
     "output_type": "display_data"
    }
   ],
   "source": [
    "c_svm_poly = [0.0001,0.001,0.01,0.1,1,10,100]\n",
    "\n",
    "\n",
    "for c in c_svm_poly:\n",
    "    svm_polynomial(c)\n",
    "\n",
    "plt.plot(c_svm_poly, acc_train_svm_poly,'.-',color='red')\n",
    "plt.plot(c_svm_poly, acc_test_svm_poly,'.-',color='orange')\n",
    "plt.xlabel('c')\n",
    "plt.ylabel('Accuracy')\n",
    "plt.title(\"Plot of accuracy vs c for training and test data\")\n",
    "plt.grid()"
   ]
  },
  {
   "cell_type": "code",
   "execution_count": 10,
   "metadata": {},
   "outputs": [
    {
     "name": "stdout",
     "output_type": "stream",
     "text": [
      "Accuracy = 0.890667\n",
      "Accuracy = 0.263000\n",
      "Accuracy = 0.953333\n",
      "Accuracy = 0.263000\n",
      "Accuracy = 0.977667\n",
      "Accuracy = 0.259000\n"
     ]
    }
   ],
   "source": [
    "#Try more values of c for polynomial kernel.\n",
    "c_svm_poly_extended=[200,500,1000]\n",
    "for c in c_svm_poly_extended:\n",
    "    svm_polynomial(c)"
   ]
  },
  {
   "cell_type": "markdown",
   "metadata": {},
   "source": [
    "## SVM RBF Kernel"
   ]
  },
  {
   "cell_type": "code",
   "execution_count": 20,
   "metadata": {
    "collapsed": true
   },
   "outputs": [],
   "source": [
    "def svm_rbf(c, g):\n",
    "    svc_rbf = svm.SVC(probability = False, kernel = 'rbf', C = c, gamma = g)\n",
    "    \n",
    "    # Fit the classifier on the training set.\n",
    "    svc_rbf.fit(xTrain, yTrain) \n",
    "    \n",
    "    # Find the prediction and accuracy on the training set.\n",
    "    Yhat_svc_rbf_train = svc_rbf.predict(xTrain)\n",
    "    acc = np.mean(Yhat_svc_rbf_train == yTrain)\n",
    "    print('Train Accuracy = {0:f}'.format(acc))\n",
    "    acc_train_svm_rbf.append(acc)\n",
    "    \n",
    "    # Find the prediction and accuracy on the test set.\n",
    "    Yhat_svc_rbf_test = svc_rbf.predict(xVal)\n",
    "    acc = np.mean(Yhat_svc_rbf_test == yVal)\n",
    "    print('Test Accuracy = {0:f}'.format(acc))\n",
    "    acc_test_svm_rbf.append(acc)"
   ]
  },
  {
   "cell_type": "code",
   "execution_count": 21,
   "metadata": {},
   "outputs": [
    {
     "name": "stdout",
     "output_type": "stream",
     "text": [
      "Train Accuracy = 0.107333\n",
      "Test Accuracy = 0.079000\n",
      "Train Accuracy = 0.107333\n",
      "Test Accuracy = 0.079000\n",
      "Train Accuracy = 0.107333\n",
      "Test Accuracy = 0.079000\n",
      "Train Accuracy = 0.307333\n",
      "Test Accuracy = 0.119000\n",
      "Train Accuracy = 0.487333\n",
      "Test Accuracy = 0.119000\n",
      "Train Accuracy = 0.848333\n",
      "Test Accuracy = 0.105000\n",
      "Train Accuracy = 1.000000\n",
      "Test Accuracy = 0.119000\n"
     ]
    },
    {
     "data": {
      "image/png": "[encoded data removed]",
      "text/plain": [
       "<matplotlib.figure.Figure at 0x247e1dbcf28>"
      ]
     },
     "metadata": {},
     "output_type": "display_data"
    }
   ],
   "source": [
    "acc_train_svm_rbf= []\n",
    "acc_test_svm_rbf = []\n",
    "c_svm_rbf = [0.0001,0.001,0.01,0.1,1,10,100]\n",
    "\n",
    "for c in c_svm_rbf:\n",
    "     svm_rbf(c, 'auto')\n",
    "    \n",
    "plt.plot(c_svm_rbf, acc_train_svm_rbf,'.-',color='red')\n",
    "plt.plot(c_svm_rbf, acc_test_svm_rbf,'.-',color='orange')\n",
    "plt.xlabel('c')\n",
    "plt.ylabel('Accuracy')\n",
    "plt.title(\"Plot of accuracy vs c for training and test data\")\n",
    "plt.grid()\n",
    "    "
   ]
  },
  {
   "cell_type": "markdown",
   "metadata": {
    "collapsed": true
   },
   "source": [
    "## SUMMARIZING RESULTS FOR THE 3 KERNELS"
   ]
  },
  {
   "cell_type": "code",
   "execution_count": 28,
   "metadata": {},
   "outputs": [
    {
     "name": "stdout",
     "output_type": "stream",
     "text": [
      "SVM Linear Training Accuracy =  [0.35499999999999998, 0.48499999999999999, 0.70899999999999996, 0.98999999999999999, 1.0, 1.0, 1.0]\n",
      "SVM Linear Test Accuracy =  [0.098000000000000004, 0.188, 0.253, 0.28599999999999998, 0.27900000000000003, 0.27900000000000003, 0.27900000000000003]\n",
      "SVM Polynomial Training Accuracy =  [0.107, 0.107, 0.107, 0.107, 0.13900000000000001, 0.33600000000000002, 0.80400000000000005]\n",
      "SVM Polynomial Test Accuracy =  [0.086999999999999994, 0.086999999999999994, 0.086999999999999994, 0.086999999999999994, 0.086999999999999994, 0.151, 0.26700000000000002]\n",
      "SVM RBF Training Accuracy =  [0.107, 0.107, 0.107, 0.307, 0.48699999999999999, 0.84799999999999998, 1.0]\n",
      "SVM RBF Test Accuracy =  [0.079000000000000001, 0.079000000000000001, 0.079000000000000001, 0.11899999999999999, 0.11899999999999999, 0.105, 0.11899999999999999]\n"
     ]
    }
   ],
   "source": [
    "# for i in range(len(acc_train_svm_linear)): \n",
    "#     acc_train_svm_linear[i]=round(acc_train_svm_linear[i],3)\n",
    "#     acc_test_svm_linear[i]=round(acc_test_svm_linear[i],3)\n",
    "#     acc_train_svm_poly[i]=round(acc_train_svm_poly[i],3)\n",
    "#     acc_test_svm_poly[i]=round(acc_test_svm_poly[i],3)\n",
    "#     acc_train_svm_rbf[i]=round(acc_train_svm_rbf[i],3)\n",
    "#     acc_test_svm_rbf[i]=round(acc_test_svm_rbf[i],3)\n",
    "    \n",
    "\n",
    "    \n",
    "print(\"SVM Linear Training Accuracy = \", acc_train_svm_linear)\n",
    "print(\"SVM Linear Test Accuracy = \", acc_test_svm_linear)\n",
    "print(\"SVM Polynomial Training Accuracy = \", acc_train_svm_poly)\n",
    "print(\"SVM Polynomial Test Accuracy = \", acc_test_svm_poly)\n",
    "print(\"SVM RBF Training Accuracy = \", acc_train_svm_rbf)\n",
    "print(\"SVM RBF Test Accuracy = \", acc_test_svm_rbf)"
   ]
  },
  {
   "cell_type": "markdown",
   "metadata": {},
   "source": [
    "## BEST MODEL (LINEAR KERNEL WITH C=0.1)"
   ]
  },
  {
   "cell_type": "code",
   "execution_count": 4,
   "metadata": {},
   "outputs": [
    {
     "name": "stderr",
     "output_type": "stream",
     "text": [
      "Using TensorFlow backend.\n"
     ]
    },
    {
     "name": "stdout",
     "output_type": "stream",
     "text": [
      "(49000, 32, 32, 3)\n",
      "(49000,)\n",
      "(49000, 3072)\n",
      "[  59.   62.   63. ...,  123.   92.   72.]\n",
      "(49000, 3072)\n",
      "[-0.5372549  -0.51372549 -0.50588235 ..., -0.03529412 -0.27843137\n",
      " -0.43529412]\n"
     ]
    }
   ],
   "source": [
    "#Train with 10000 examples with linear kernel (c=0.1)\n",
    "\n",
    "# Load the CIFAR10 dataset\n",
    "from keras.datasets import cifar10\n",
    "baseDir = os.path.dirname(os.path.abspath('__file__')) + '/'\n",
    "classesName = ['plane', 'car', 'bird', 'cat', 'deer', 'dog', 'frog', 'horse', 'ship', 'truck']\n",
    "(xTrain, yTrain), (xTest, yTest) = cifar10.load_data()\n",
    "xVal = xTrain[49000:, :].astype(np.float)\n",
    "yVal = np.squeeze(yTrain[49000:, :])\n",
    "xTrain = xTrain[:49000, :].astype(np.float)\n",
    "yTrain = np.squeeze(yTrain[:49000, :])\n",
    "yTest = np.squeeze(yTest)\n",
    "xTest = xTest.astype(np.float)\n",
    "\n",
    "print(xTrain.shape)\n",
    "print(yTrain.shape)\n",
    "xTrain = np.reshape(xTrain, (xTrain.shape[0], -1)) # The -1 means that the corresponding dimension is calculated from the other given dimensions.\n",
    "xVal = np.reshape(xVal, (xVal.shape[0], -1))\n",
    "xTest = np.reshape(xTest, (xTest.shape[0], -1))\n",
    "print(xTrain.shape) \n",
    "print(xTrain[0])\n",
    "\n",
    "#Normalize\n",
    "xTrain=((xTrain/255)*2)-1 \n",
    "print(xTrain.shape)\n",
    "print(xTrain[0])"
   ]
  },
  {
   "cell_type": "code",
   "execution_count": 9,
   "metadata": {},
   "outputs": [
    {
     "name": "stdout",
     "output_type": "stream",
     "text": [
      "[6 9 9 ..., 1 1 5]\n",
      "(10000, 3072)\n",
      "(10000,)\n"
     ]
    },
    {
     "data": {
      "text/plain": [
       "SVC(C=0.1, cache_size=200, class_weight=None, coef0=0.0,\n",
       "  decision_function_shape='ovr', degree=3, gamma='auto', kernel='linear',\n",
       "  max_iter=-1, probability=False, random_state=None, shrinking=True,\n",
       "  tol=0.001, verbose=False)"
      ]
     },
     "execution_count": 9,
     "metadata": {},
     "output_type": "execute_result"
    }
   ],
   "source": [
    "xTrain=xTrain[:10000,:]\n",
    "yTrain=yTrain[:10000]\n",
    "print(yTrain)\n",
    "print(xTrain.shape)\n",
    "print(yTrain.shape)\n",
    "\n",
    "from sklearn import svm\n",
    "svc = svm.SVC(probability = False, kernel = 'linear', C = 0.1)\n",
    "svc.fit(xTrain, yTrain)"
   ]
  },
  {
   "cell_type": "code",
   "execution_count": 10,
   "metadata": {},
   "outputs": [
    {
     "name": "stdout",
     "output_type": "stream",
     "text": [
      "Test Accuracy = 0.293000\n"
     ]
    }
   ],
   "source": [
    "Yhat_svc_linear_test = svc.predict(xVal)\n",
    "acc_test = np.mean(Yhat_svc_linear_test == yVal)\n",
    "print('Test Accuracy = {0:f}'.format(acc_test)) "
   ]
  },
  {
   "cell_type": "code",
   "execution_count": 9,
   "metadata": {
    "collapsed": true
   },
   "outputs": [],
   "source": [
    "def plt_img(x):\n",
    "    nrow = 32\n",
    "    ncol = 32\n",
    "    ncolors=3\n",
    "    xsq = x.reshape((nrow,ncol,ncolors))\n",
    "    plt.imshow(xsq)\n",
    "#     plt.xticks([])\n",
    "#     plt.yticks([])"
   ]
  },
  {
   "cell_type": "code",
   "execution_count": 10,
   "metadata": {},
   "outputs": [
    {
     "data": {
      "image/png": "[encoded data removed]",
      "text/plain": [
       "<matplotlib.figure.Figure at 0x247ddaf7748>"
      ]
     },
     "metadata": {},
     "output_type": "display_data"
    }
   ],
   "source": [
    "#Plotting some of the errors\n",
    "Ierr = np.where((Yhat_svc_linear_test != yVal))[0]\n",
    "nplt = 4\n",
    "plt.figure(figsize=(10, 4))\n",
    "for i in range(nplt):        \n",
    "    plt.subplot(1,nplt,i+1)        \n",
    "    ind = Ierr[i]    \n",
    "    plt_img(xVal[ind,:])        \n",
    "    title = 'true={0:s} est={1:s}'.format(classesName[yVal[ind].astype(int)], classesName[Yhat_svc_linear_test[ind].astype(int)])\n",
    "    plt.title(title)"
   ]
  },
  {
   "cell_type": "markdown",
   "metadata": {},
   "source": [
    "## Without Normalization (using original pixel values 0-255) "
   ]
  },
  {
   "cell_type": "code",
   "execution_count": 2,
   "metadata": {},
   "outputs": [
    {
     "name": "stdout",
     "output_type": "stream",
     "text": [
      "(49000, 32, 32, 3)\n",
      "(49000,)\n",
      "(49000, 3072)\n",
      "[  59.   62.   63. ...,  123.   92.   72.]\n",
      "[6 9 9 ..., 1 1 5]\n",
      "(10000, 3072)\n",
      "(10000,)\n",
      "Test Accuracy = 0.306000\n"
     ]
    }
   ],
   "source": [
    "import os\n",
    "import time\n",
    "import numpy as np\n",
    "\n",
    "\n",
    "import matplotlib.pyplot as plt\n",
    "import matplotlib as mpl\n",
    "%matplotlib inline\n",
    "\n",
    "\n",
    "# Load the CIFAR10 dataset\n",
    "from keras.datasets import cifar10\n",
    "baseDir = os.path.dirname(os.path.abspath('__file__')) + '/'\n",
    "classesName = ['plane', 'car', 'bird', 'cat', 'deer', 'dog', 'frog', 'horse', 'ship', 'truck']\n",
    "(xTrain, yTrain), (xTest, yTest) = cifar10.load_data()\n",
    "xVal = xTrain[49000:, :].astype(np.float)\n",
    "yVal = np.squeeze(yTrain[49000:, :])\n",
    "xTrain = xTrain[:49000, :].astype(np.float)\n",
    "yTrain = np.squeeze(yTrain[:49000, :])\n",
    "yTest = np.squeeze(yTest)\n",
    "xTest = xTest.astype(np.float)\n",
    "\n",
    "print(xTrain.shape)\n",
    "print(yTrain.shape)\n",
    "xTrain = np.reshape(xTrain, (xTrain.shape[0], -1)) # The -1 means that the corresponding dimension is calculated from the other given dimensions.\n",
    "xVal = np.reshape(xVal, (xVal.shape[0], -1))\n",
    "xTest = np.reshape(xTest, (xTest.shape[0], -1))\n",
    "print(xTrain.shape) \n",
    "print(xTrain[0])\n",
    "\n",
    "# #Normalize \n",
    "# xTrain=((xTrain/255)*2)-1 \n",
    "# print(xTrain.shape)\n",
    "# print(xTrain[0])\n",
    "\n",
    "#Running SVM \n",
    "xTrain=xTrain[:10000,:]\n",
    "yTrain=yTrain[:10000]\n",
    "print(yTrain)\n",
    "print(xTrain.shape)\n",
    "print(yTrain.shape)\n",
    "from sklearn import svm\n",
    "svc = svm.SVC(probability=False,  kernel=\"linear\", C=0.1)\n",
    "svc.fit(xTrain, yTrain)\n",
    "\n",
    "Yhat_svc_linear_test = svc.predict(xVal)\n",
    "acc_test = np.mean(Yhat_svc_linear_test == yVal)\n",
    "print('Test Accuracy = {0:f}'.format(acc_test)) \n"
   ]
  },
  {
   "cell_type": "markdown",
   "metadata": {},
   "source": [
    "## With Mean Normalization "
   ]
  },
  {
   "cell_type": "code",
   "execution_count": 4,
   "metadata": {},
   "outputs": [
    {
     "name": "stdout",
     "output_type": "stream",
     "text": [
      "(32, 32, 3)\n",
      "---------------------\n",
      "(49000, 32, 32, 3)\n",
      "(49000,)\n",
      "(49000, 3072)\n",
      "[-71.64189796 -73.98173469 -69.47391837 ...,  -3.64218367 -33.86195918\n",
      " -42.39957143]\n",
      "[6 9 9 ..., 1 1 5]\n",
      "(10000, 3072)\n",
      "(10000,)\n",
      "Test Accuracy = 0.306000\n"
     ]
    }
   ],
   "source": [
    "import os\n",
    "import time\n",
    "import numpy as np\n",
    "\n",
    "\n",
    "import matplotlib.pyplot as plt\n",
    "import matplotlib as mpl\n",
    "%matplotlib inline\n",
    "\n",
    "\n",
    "# Load the CIFAR10 dataset\n",
    "from keras.datasets import cifar10\n",
    "baseDir = os.path.dirname(os.path.abspath('__file__')) + '/'\n",
    "classesName = ['plane', 'car', 'bird', 'cat', 'deer', 'dog', 'frog', 'horse', 'ship', 'truck']\n",
    "(xTrain, yTrain), (xTest, yTest) = cifar10.load_data()\n",
    "xVal = xTrain[49000:, :].astype(np.float)\n",
    "yVal = np.squeeze(yTrain[49000:, :])\n",
    "xTrain = xTrain[:49000, :].astype(np.float)\n",
    "yTrain = np.squeeze(yTrain[:49000, :])\n",
    "yTest = np.squeeze(yTest)\n",
    "xTest = xTest.astype(np.float)\n",
    "\n",
    "\n",
    "meanImage = np.mean(xTrain, axis=0)\n",
    "print(meanImage.shape)\n",
    "print('---------------------')\n",
    "xTrain -= meanImage\n",
    "xVal -= meanImage\n",
    "xTest -= meanImage\n",
    "\n",
    "\n",
    "\n",
    "print(xTrain.shape)\n",
    "print(yTrain.shape)\n",
    "xTrain = np.reshape(xTrain, (xTrain.shape[0], -1)) # The -1 means that the corresponding dimension is calculated from the other given dimensions.\n",
    "xVal = np.reshape(xVal, (xVal.shape[0], -1))\n",
    "xTest = np.reshape(xTest, (xTest.shape[0], -1))\n",
    "print(xTrain.shape) \n",
    "print(xTrain[0])\n",
    "\n",
    "\n",
    "\n",
    "#Running SVM \n",
    "xTrain=xTrain[:10000,:]\n",
    "yTrain=yTrain[:10000]\n",
    "print(yTrain)\n",
    "print(xTrain.shape)\n",
    "print(yTrain.shape)\n",
    "from sklearn import svm\n",
    "svc = svm.SVC(probability=False,  kernel=\"linear\", C=0.1)\n",
    "svc.fit(xTrain, yTrain)\n",
    "\n",
    "Yhat_svc_linear_test = svc.predict(xVal)\n",
    "acc_test = np.mean(Yhat_svc_linear_test == yVal)\n",
    "print('Test Accuracy = {0:f}'.format(acc_test)) \n",
    "\n",
    "\n"
   ]
  },
  {
   "cell_type": "code",
   "execution_count": null,
   "metadata": {
    "collapsed": true
   },
   "outputs": [],
   "source": []
  }
 ],
 "metadata": {
  "kernelspec": {
   "display_name": "Python [default]",
   "language": "python",
   "name": "python3"
  },
  "language_info": {
   "codemirror_mode": {
    "name": "ipython",
    "version": 3
   },
   "file_extension": ".py",
   "mimetype": "text/x-python",
   "name": "python",
   "nbconvert_exporter": "python",
   "pygments_lexer": "ipython3",
   "version": "3.6.5"
  }
 },
 "nbformat": 4,
 "nbformat_minor": 2
}
